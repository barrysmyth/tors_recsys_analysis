{
 "cells": [
  {
   "cell_type": "markdown",
   "id": "6b4826b1-1b2e-4a26-9e3a-f8d611cbc851",
   "metadata": {},
   "source": [
    "# Influential Papers\n",
    "In this notebook we perform a cittaion analysis to identify the most influential papers. A series of visualisations and tables are produced for th emain paper."
   ]
  },
  {
   "cell_type": "code",
   "execution_count": null,
   "id": "fa6f5992-c77f-430b-a821-ab415d4071a0",
   "metadata": {},
   "outputs": [],
   "source": [
    "import swifter\n",
    "\n",
    "import os\n",
    "import json\n",
    "import random\n",
    "import time\n",
    "import re\n",
    "from datetime import datetime\n",
    "from collections import defaultdict\n",
    "\n",
    "import string \n",
    "\n",
    "import matplotlib.pyplot as plt\n",
    "\n",
    "import Stemmer\n",
    "\n",
    "import random\n",
    "import requests\n",
    "from itertools import chain\n",
    "from more_itertools import sliced\n",
    "\n",
    "import pandas as pd\n",
    "import matplotlib as mpl\n",
    "\n",
    "from matplotlib.pylab import plt\n",
    "from matplotlib_venn import venn2, venn3\n",
    "import matplotlib as mpl\n",
    "from matplotlib.cm import ScalarMappable\n",
    "\n",
    "import numpy as np\n",
    "\n",
    "from glob import glob, iglob\n",
    "from pathlib import Path\n",
    "                         \n",
    "from loguru import logger\n",
    "from IPython.display import display, clear_output\n",
    "\n",
    "from multiprocessing import Pool\n",
    "\n",
    "from wordcloud import WordCloud, STOPWORDS, ImageColorGenerator\n",
    "\n",
    "\n",
    "import nltk\n",
    "nltk.download('punkt')\n",
    "\n",
    "from nltk.stem import WordNetLemmatizer, PorterStemmer\n",
    "from nltk.tokenize import word_tokenize\n",
    "from nltk.corpus import stopwords\n",
    "nltk.download('stopwords')\n",
    "\n",
    "import seaborn as sns\n",
    "\n",
    "from itables import init_notebook_mode, show, options\n",
    "init_notebook_mode(all_interactive=False)\n",
    "\n",
    "import networkx as nx\n",
    "\n",
    "\n",
    "import seaborn as sns\n",
    "sns.set_context('paper', font_scale=1.25)\n",
    "\n",
    "pd.__version__"
   ]
  },
  {
   "cell_type": "markdown",
   "id": "1c4c37d8-365f-4812-9087-989945ee33c5",
   "metadata": {},
   "source": [
    "# Load the RecSys Papers"
   ]
  },
  {
   "cell_type": "code",
   "execution_count": null,
   "id": "5eaf240c-ae4b-44f9-ac8c-d153edcbbb1c",
   "metadata": {},
   "outputs": [],
   "source": [
    "recsys_papers_df = pd.read_feather('../data/processed/2410_recsys_papers_with_topics.feather')\n",
    "\n",
    "recsys_papers_df.shape"
   ]
  },
  {
   "cell_type": "code",
   "execution_count": null,
   "id": "dedd9443-13ed-4775-8d82-5bd3c31b62bf",
   "metadata": {},
   "outputs": [],
   "source": [
    "recsys_papers_df['bibtex_key'] = recsys_papers_df['bibtex'].map(\n",
    "    lambda bibtex: bibtex.split('{')[1].split(',')[0] if bibtex is not None else ''\n",
    ")"
   ]
  },
  {
   "cell_type": "code",
   "execution_count": null,
   "id": "cd08f2ad-51f9-4573-93b2-89b8857e0d05",
   "metadata": {},
   "outputs": [],
   "source": [
    "papers_by_topic_df = pd.read_feather('../data/processed/3410_papers_by_topic.feather')\n",
    "papers_by_topic_df[(papers_by_topic_df['growing_papers']) & (papers_by_topic_df['growing_citations'])].sort_values(by='momentum', ascending=False)"
   ]
  },
  {
   "cell_type": "markdown",
   "id": "549ebd38-3741-4cae-afe7-0e8a18f8f345",
   "metadata": {},
   "source": [
    "# Build Citation Graph"
   ]
  },
  {
   "cell_type": "code",
   "execution_count": null,
   "id": "9435fcd1-a4e5-4dfb-993e-f6d6cb8c89ea",
   "metadata": {},
   "outputs": [],
   "source": [
    "def build_citation_graph(df):\n",
    "\n",
    "    # Extract the citations\n",
    "    citations = (\n",
    "        df\n",
    "        .set_index('paperId')['updated_citations']\n",
    "        .explode()\n",
    "        .dropna()\n",
    "        .reset_index()\n",
    "    )\n",
    "\n",
    "    citations.columns = ['cited', 'citer']\n",
    "\n",
    "    # Return the directed citation graph.\n",
    "    return nx.from_pandas_edgelist(\n",
    "        citations, \n",
    "        source=\"citer\", target=\"cited\", \n",
    "        edge_attr=None, create_using=nx.DiGraph()\n",
    "    )\n",
    "    \n",
    "\n",
    "recsys_papers_graph = build_citation_graph(recsys_papers_df)\n",
    "\n",
    "recsys_papers_graph"
   ]
  },
  {
   "cell_type": "code",
   "execution_count": null,
   "id": "662c81e8-f532-4ec4-badf-c23c0aa64ecf",
   "metadata": {},
   "outputs": [],
   "source": [
    "len(recsys_papers_graph.nodes()), len(recsys_papers_graph.edges()), len(set(recsys_papers_df['paperId'].unique()).union(set(recsys_papers_df['citations'].explode().values)))"
   ]
  },
  {
   "cell_type": "markdown",
   "id": "7e9174c5-cf34-4ac2-a7ca-b3c1b8a4fa7b",
   "metadata": {},
   "source": [
    "# Calculate Centrality Measures"
   ]
  },
  {
   "cell_type": "code",
   "execution_count": null,
   "id": "e8b97492-1eb2-46ee-aed5-c0e8cde80cf4",
   "metadata": {},
   "outputs": [],
   "source": [
    "# A wrapper to make it each to set the alpha; used default alpha.\n",
    "def katz_centrality(G):\n",
    "    return nx.katz_centrality(G, alpha=.05)\n",
    "\n",
    "def get_centrality_scores(G):\n",
    "\n",
    "    def authorities_centrality(G): return nx.hits(G)[1]\n",
    "    def pagerank_centrality(G): return nx.pagerank(G)\n",
    "    \n",
    "    centrality_measures = [\n",
    "        nx.in_degree_centrality, \n",
    "        pagerank_centrality, \n",
    "        katz_centrality, \n",
    "    ]\n",
    "\n",
    "    score_dicts = []\n",
    "    \n",
    "    for centrality_measure in centrality_measures:\n",
    "        clear_output()\n",
    "        logger.info(centrality_measure.__name__)\n",
    "                    \n",
    "        score_dicts.append(centrality_measure(G)) \n",
    "    \n",
    "    scores_df = pd.DataFrame(score_dicts).T\n",
    "    scores_df.columns = [centrality_measure.__name__ for centrality_measure in centrality_measures]\n",
    "\n",
    "    return scores_df\n"
   ]
  },
  {
   "cell_type": "code",
   "execution_count": null,
   "id": "57b6f0d5-6404-4f34-927e-1326df5ed782",
   "metadata": {},
   "outputs": [],
   "source": [
    "recsys_papers_centrality_df = get_centrality_scores(recsys_papers_graph)\n",
    "recsys_papers_centrality_df.shape"
   ]
  },
  {
   "cell_type": "code",
   "execution_count": null,
   "id": "2aa67843-6918-4e5f-9e13-b09989baf0a7",
   "metadata": {},
   "outputs": [],
   "source": [
    "recsys_papers_centrality_df"
   ]
  },
  {
   "cell_type": "markdown",
   "id": "08e27381-d84c-4768-abde-c189fd334580",
   "metadata": {},
   "source": [
    "## Add to the RecsSys Papers DF & Calculate Ranks\n",
    "There are more than just Recsys papers in this graph but we are most interested in the recsys papers. We add the various cenrality estimates to the RS papers for further analysis."
   ]
  },
  {
   "cell_type": "code",
   "execution_count": null,
   "id": "7815bb92-5551-40e7-a9ed-2e866b18053a",
   "metadata": {},
   "outputs": [],
   "source": [
    "recsys_papers_df = recsys_papers_df.set_index('paperId').join(recsys_papers_centrality_df, how='left').reset_index()\n",
    "recsys_papers_df.head()"
   ]
  },
  {
   "cell_type": "code",
   "execution_count": null,
   "id": "c2879e8c-33a6-48be-943e-d3f1e3781726",
   "metadata": {},
   "outputs": [],
   "source": [
    "recsys_papers_df = pd.concat([\n",
    "    recsys_papers_df, \n",
    "    recsys_papers_df.filter(like='_centrality').rank(ascending=False).add_suffix('_rank')    \n",
    "], axis=1)\n",
    "\n",
    "recsys_papers_df['centrality_rank_sum'] = recsys_papers_df.filter(like='centrality_rank').sum(axis=1)\n",
    "recsys_papers_df['centrality_rank_mean'] = recsys_papers_df.filter(like='centrality_rank').mean(axis=1)\n",
    "recsys_papers_df['centrality_rank_std'] = recsys_papers_df.filter(like='centrality_rank').std(axis=1)\n",
    "\n",
    "recsys_papers_df['centrality_rank_harmonic_mean'] = 3/(\n",
    "    (1/recsys_papers_df['pagerank_centrality_rank'])+\n",
    "    (1/recsys_papers_df['katz_centrality'])+\n",
    "    (1/recsys_papers_df['in_degree_centrality_rank'])\n",
    ")\n",
    "\n",
    "recsys_papers_df.head()"
   ]
  },
  {
   "cell_type": "markdown",
   "id": "bb4855b2-d44b-4a8c-bf64-3f92efbacf29",
   "metadata": {},
   "source": [
    "# The Most Influential RecSys Papers\n",
    "We calculate overall influence based on a combination of centrality ranks."
   ]
  },
  {
   "cell_type": "code",
   "execution_count": null,
   "id": "f6f1e30e-f12f-48c1-9b3f-5f915bd6d59f",
   "metadata": {},
   "outputs": [],
   "source": [
    "def top_papers_table(top_papers):\n",
    "\n",
    "    top_papers = top_papers[['year', 'title', 'author_names', 'citationCount', 'bibtex_key']].copy()\n",
    "\n",
    "    top_papers['year'] = top_papers['year'].map(int)\n",
    "\n",
    "    top_papers['title'] = (\n",
    "        top_papers['title'].map(lambda title: title[:42]+' ...') \n",
    "        + top_papers['bibtex_key'].map(lambda key: '\\cite{{{}}}'.format(key))\n",
    "    )\n",
    "    \n",
    "    # Just take the surnames to save space.\n",
    "    top_papers['author_names'] =  top_papers['author_names'].map(lambda author_names: author_names[0].split()[-1]+' et al.' if len(author_names)>1 else author_names[0].split()[-1])\n",
    "    top_papers['citationCount'] = top_papers['citationCount'].map(lambda count: '{:,.0f}'.format(count))\n",
    "\n",
    "    top_papers = top_papers[['year', 'title', 'author_names', 'citationCount']]\n",
    "    top_papers.columns = ['Year', 'Title', 'Authors', 'Cites']\n",
    "    top_papers.index = range(1, len(top_papers)+1)\n",
    "\n",
    "    return top_papers\n",
    "    \n",
    "\n",
    "rank_cols = ['pagerank_centrality_rank', 'katz_centrality_rank', 'in_degree_centrality_rank']\n",
    "    \n",
    "def plot_impact_bars(ax, ranks_df, rank_cols=rank_cols, top_n=25):\n",
    "    \n",
    "    top_n_papers = ranks_df.sort_values(by='centrality_rank_sum', ascending=True).head(top_n)\n",
    "    \n",
    "    top_n_papers[rank_cols].plot(ax=ax, kind='bar', stacked=True, alpha=.9, ec='k', lw=1, width=0.75)\n",
    "    \n",
    "    # Over-print an outline around each stacked bar.\n",
    "    top_n_papers['centrality_rank_sum'].plot(ax=ax, kind='bar', ec='k', lw=1, color='none', width=0.75)\n",
    "\n",
    "    def tag_title(paper):\n",
    "        if 'paper_type' in paper:\n",
    "            if paper['paper_type']=='outside':\n",
    "                return '* '\n",
    "\n",
    "        return ''\n",
    "    \n",
    "    labels = top_n_papers.apply(\n",
    "        lambda paper: '{}{}...'.format(\n",
    "            tag_title(paper),\n",
    "            paper['title'][:30]\n",
    "        ), axis=1)\n",
    "\n",
    "    def get_author_label(paper):\n",
    "        author_names = [name.split()[-1] for name in paper['author_names']]\n",
    "        author_label = author_names[0] if len(author_names)==1 else author_names[0]+' et al.'        \n",
    "        return author_label\n",
    "\n",
    "    \n",
    "    labels = top_n_papers.apply(\n",
    "        lambda paper: '{}{}, {},({:.0f})'.format(\n",
    "            tag_title(paper),\n",
    "            paper['title'][:25] if len(paper['title'])<=25 else paper['title'][:25]+'... ',\n",
    "            get_author_label(paper), \n",
    "            paper['year'], \n",
    "        ), axis=1)\n",
    "    \n",
    "    ax.set_xticklabels(labels, ha='center', va='top')\n",
    "\n",
    "    ax.legend(['Citations/In-Degree', 'PageRank', 'Katz'], ncol=3, loc='upper left', frameon=False)\n",
    "\n",
    "    return top_n_papers\n"
   ]
  },
  {
   "cell_type": "code",
   "execution_count": null,
   "id": "d20fc812-c3d9-431a-a311-9ad499853805",
   "metadata": {},
   "outputs": [],
   "source": [
    "with_titles = recsys_papers_df['title'].map(lambda title: len(title.split())>2 if title is not None else False)\n",
    "with_authors = recsys_papers_df['author_names'].map(lambda authors: len(authors)>0 if authors is not None else False)\n",
    "with_venues = recsys_papers_df['venue'].map(lambda v: len(v)>3 if v is not None else False)\n",
    "with_topic = recsys_papers_df['recsys_adj_topic_name'].notnull()\n",
    "\n",
    "with_centrality_ranks = recsys_papers_df.filter(like='centrality_rank').notnull().all(axis=1)\n",
    "\n",
    "with_centrality_ranks.sum()"
   ]
  },
  {
   "cell_type": "markdown",
   "id": "bb096093-6ac1-4762-93db-a6041f91ec3c",
   "metadata": {},
   "source": [
    "## Top RecSys Papers Overall"
   ]
  },
  {
   "cell_type": "code",
   "execution_count": null,
   "id": "288760d3-5f85-4089-bd84-288d0b9a3f73",
   "metadata": {},
   "outputs": [],
   "source": [
    "fig, ax = plt.subplots(figsize=(10, 10))\n",
    "\n",
    "top_n_papers_overall = plot_impact_bars(ax, recsys_papers_df[with_centrality_ranks & with_titles & with_topic & with_venues], top_n=25)\n",
    "\n",
    "for x, (_, paper) in enumerate(top_n_papers_overall.iterrows()):\n",
    "    ax.text(x, paper['centrality_rank_sum']+10, ', '.join(paper['recsys_adj_topic_name'].split(', ')[:2]), rotation=90, fontstyle='italic')\n",
    "\n",
    "ax.set_ylim(0, 260)\n",
    "ax.set_ylabel('Rank Sum')\n",
    "\n",
    "fig.tight_layout()\n",
    "\n",
    "fig.savefig('../graphs/3500_top_n_all_time_influential_recsys_papers.png', dpi=300, bbox_inches='tight')\n",
    "\n",
    "print(top_papers_table(top_n_papers_overall).set_index('Year').to_latex())"
   ]
  },
  {
   "cell_type": "code",
   "execution_count": null,
   "id": "fd549362-d6b1-415a-af64-196fc963522e",
   "metadata": {},
   "outputs": [],
   "source": [
    "print('\\n'.join(top_n_papers_overall['bibtex'].values))"
   ]
  },
  {
   "cell_type": "code",
   "execution_count": null,
   "id": "6ea47215-ad36-41d6-b949-000cd5924dc4",
   "metadata": {},
   "outputs": [],
   "source": [
    "top_n_papers_overall['recsys_adj_topic_name'].nunique(), top_n_papers_overall['recsys_adj_topic_name'].value_counts()"
   ]
  },
  {
   "cell_type": "markdown",
   "id": "468a9dc0-1d02-48fe-a372-f0708e9e0b7f",
   "metadata": {},
   "source": [
    "## Top n Recent Influential Papers (2014-2024)"
   ]
  },
  {
   "cell_type": "code",
   "execution_count": null,
   "id": "9fad0855-4b7d-42b0-be21-473dd94f26dc",
   "metadata": {},
   "outputs": [],
   "source": [
    "fig, ax = plt.subplots(figsize=(10, 10))\n",
    "\n",
    "is_recent = recsys_papers_df['year']>2013\n",
    "\n",
    "top_n_papers_recent = plot_impact_bars(ax, recsys_papers_df[with_centrality_ranks & with_titles & with_topic & with_venues & is_recent], top_n=25)\n",
    "\n",
    "for x, (_, paper) in enumerate(top_n_papers_recent.iterrows()):\n",
    "    ax.text(x, paper['centrality_rank_sum']+30, ', '.join(paper['recsys_adj_topic_name'].split(', ')[:2]), rotation=90, fontstyle='italic')\n",
    "\n",
    "ax.set_ylim(0, 1600)\n",
    "ax.set_ylabel('Rank Sum')\n",
    "\n",
    "fig.tight_layout()\n",
    "\n",
    "fig.savefig('../graphs/3500_top_n_recent_influential_recsys_papers.png', dpi=300, bbox_inches='tight')\n",
    "\n",
    "print(top_papers_table(top_n_papers_recent).set_index('Year').to_latex())"
   ]
  },
  {
   "cell_type": "code",
   "execution_count": null,
   "id": "100d0b29-a8bc-4140-9e67-fe13816cb804",
   "metadata": {},
   "outputs": [],
   "source": [
    "print('\\n'.join(top_n_papers_recent['bibtex'].values))"
   ]
  },
  {
   "cell_type": "markdown",
   "id": "97f1ec35-78cf-4052-9fa4-fed121c4e889",
   "metadata": {},
   "source": [
    "# Save RecSys Papers with Ranks"
   ]
  },
  {
   "cell_type": "code",
   "execution_count": null,
   "id": "4851786b-8d82-4ee0-b498-1472cb322d9d",
   "metadata": {},
   "outputs": [],
   "source": [
    "recsys_papers_df.to_feather('../data/processed/3500_recsys_papers_with_influence_ranks.feather')\n",
    "recsys_papers_df.shape"
   ]
  },
  {
   "cell_type": "code",
   "execution_count": null,
   "id": "76c6804a-92c4-4b7c-a77c-b704c08228e3",
   "metadata": {},
   "outputs": [],
   "source": []
  },
  {
   "cell_type": "code",
   "execution_count": null,
   "id": "f9379001-0ecd-438e-965c-8bea0314d2f9",
   "metadata": {},
   "outputs": [],
   "source": []
  }
 ],
 "metadata": {
  "kernelspec": {
   "display_name": "py39",
   "language": "python",
   "name": "py39"
  },
  "language_info": {
   "codemirror_mode": {
    "name": "ipython",
    "version": 3
   },
   "file_extension": ".py",
   "mimetype": "text/x-python",
   "name": "python",
   "nbconvert_exporter": "python",
   "pygments_lexer": "ipython3",
   "version": "3.9.7"
  }
 },
 "nbformat": 4,
 "nbformat_minor": 5
}
